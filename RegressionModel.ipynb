{
 "cells": [
  {
   "cell_type": "code",
   "execution_count": 1,
   "metadata": {
    "collapsed": true
   },
   "outputs": [],
   "source": [
    "# Import the packages\n",
    "import pandas as pd\n",
    "import datetime as dt\n",
    "import numpy as np\n",
    "import seaborn as sns\n",
    "import scipy.stats as st\n",
    "import statsmodels.formula.api as smf\n",
    "from sklearn.preprocessing import Normalizer\n",
    "from statsmodels.stats.outliers_influence import variance_inflation_factor\n",
    "from patsy import dmatrices\n",
    "import matplotlib.pylab as plt\n",
    "from sklearn.linear_model import LinearRegression\n",
    "from sklearn.linear_model import Lasso\n",
    "from sklearn.linear_model import Ridge\n",
    "from sklearn.linear_model import ElasticNet\n",
    "from sklearn.model_selection import GridSearchCV\n",
    "from sklearn.preprocessing import StandardScaler\n",
    "from sklearn.pipeline import Pipeline\n",
    "from sklearn.model_selection import train_test_split \n",
    "from sklearn.metrics import mean_squared_error\n",
    "from sklearn.model_selection import RandomizedSearchCV \n",
    "from sklearn.metrics import r2_score\n",
    "from sklearn import decomposition\n",
    "from sklearn.ensemble import RandomForestRegressor\n",
    "%matplotlib inline"
   ]
  },
  {
   "cell_type": "markdown",
   "metadata": {},
   "source": [
    "# Load the clean data for modeling."
   ]
  },
  {
   "cell_type": "code",
   "execution_count": 2,
   "metadata": {},
   "outputs": [
    {
     "data": {
      "text/html": [
       "<div>\n",
       "<style>\n",
       "    .dataframe thead tr:only-child th {\n",
       "        text-align: right;\n",
       "    }\n",
       "\n",
       "    .dataframe thead th {\n",
       "        text-align: left;\n",
       "    }\n",
       "\n",
       "    .dataframe tbody tr th {\n",
       "        vertical-align: top;\n",
       "    }\n",
       "</style>\n",
       "<table border=\"1\" class=\"dataframe\">\n",
       "  <thead>\n",
       "    <tr style=\"text-align: right;\">\n",
       "      <th></th>\n",
       "      <th>date</th>\n",
       "      <th>Appliances_energy_use</th>\n",
       "      <th>Kitchen_temp</th>\n",
       "      <th>Kitchen_humidity</th>\n",
       "      <th>LivingRoom_temp</th>\n",
       "      <th>livingRoom_humidity</th>\n",
       "      <th>LaundryRoom_temp</th>\n",
       "      <th>LaundryRoom_humidity</th>\n",
       "      <th>OfficeRoom_temp</th>\n",
       "      <th>OfficeRoom_humidity</th>\n",
       "      <th>...</th>\n",
       "      <th>ParentsRoom_temp</th>\n",
       "      <th>ParentsRoom_humidity</th>\n",
       "      <th>Outside_temp</th>\n",
       "      <th>Outside_pressure</th>\n",
       "      <th>Outside_humidity</th>\n",
       "      <th>WindSpeed</th>\n",
       "      <th>Visibility</th>\n",
       "      <th>Dewpoint</th>\n",
       "      <th>rv1</th>\n",
       "      <th>rv2</th>\n",
       "    </tr>\n",
       "  </thead>\n",
       "  <tbody>\n",
       "    <tr>\n",
       "      <th>0</th>\n",
       "      <td>2016-01-11 17:00:00</td>\n",
       "      <td>60</td>\n",
       "      <td>19.89</td>\n",
       "      <td>47.596667</td>\n",
       "      <td>19.2</td>\n",
       "      <td>44.790000</td>\n",
       "      <td>19.79</td>\n",
       "      <td>44.730000</td>\n",
       "      <td>19.000000</td>\n",
       "      <td>45.566667</td>\n",
       "      <td>...</td>\n",
       "      <td>17.033333</td>\n",
       "      <td>45.53</td>\n",
       "      <td>6.600000</td>\n",
       "      <td>733.5</td>\n",
       "      <td>92.0</td>\n",
       "      <td>7.000000</td>\n",
       "      <td>63.000000</td>\n",
       "      <td>5.3</td>\n",
       "      <td>13.275433</td>\n",
       "      <td>13.275433</td>\n",
       "    </tr>\n",
       "    <tr>\n",
       "      <th>1</th>\n",
       "      <td>2016-01-11 17:10:00</td>\n",
       "      <td>60</td>\n",
       "      <td>19.89</td>\n",
       "      <td>46.693333</td>\n",
       "      <td>19.2</td>\n",
       "      <td>44.722500</td>\n",
       "      <td>19.79</td>\n",
       "      <td>44.790000</td>\n",
       "      <td>19.000000</td>\n",
       "      <td>45.992500</td>\n",
       "      <td>...</td>\n",
       "      <td>17.066667</td>\n",
       "      <td>45.56</td>\n",
       "      <td>6.483333</td>\n",
       "      <td>733.6</td>\n",
       "      <td>92.0</td>\n",
       "      <td>6.666667</td>\n",
       "      <td>59.166667</td>\n",
       "      <td>5.2</td>\n",
       "      <td>18.606195</td>\n",
       "      <td>18.606195</td>\n",
       "    </tr>\n",
       "    <tr>\n",
       "      <th>2</th>\n",
       "      <td>2016-01-11 17:20:00</td>\n",
       "      <td>50</td>\n",
       "      <td>19.89</td>\n",
       "      <td>46.300000</td>\n",
       "      <td>19.2</td>\n",
       "      <td>44.626667</td>\n",
       "      <td>19.79</td>\n",
       "      <td>44.933333</td>\n",
       "      <td>18.926667</td>\n",
       "      <td>45.890000</td>\n",
       "      <td>...</td>\n",
       "      <td>17.000000</td>\n",
       "      <td>45.50</td>\n",
       "      <td>6.366667</td>\n",
       "      <td>733.7</td>\n",
       "      <td>92.0</td>\n",
       "      <td>6.333333</td>\n",
       "      <td>55.333333</td>\n",
       "      <td>5.1</td>\n",
       "      <td>28.642668</td>\n",
       "      <td>28.642668</td>\n",
       "    </tr>\n",
       "    <tr>\n",
       "      <th>3</th>\n",
       "      <td>2016-01-11 17:30:00</td>\n",
       "      <td>50</td>\n",
       "      <td>19.89</td>\n",
       "      <td>46.066667</td>\n",
       "      <td>19.2</td>\n",
       "      <td>44.590000</td>\n",
       "      <td>19.79</td>\n",
       "      <td>45.000000</td>\n",
       "      <td>18.890000</td>\n",
       "      <td>45.723333</td>\n",
       "      <td>...</td>\n",
       "      <td>17.000000</td>\n",
       "      <td>45.40</td>\n",
       "      <td>6.250000</td>\n",
       "      <td>733.8</td>\n",
       "      <td>92.0</td>\n",
       "      <td>6.000000</td>\n",
       "      <td>51.500000</td>\n",
       "      <td>5.0</td>\n",
       "      <td>45.410389</td>\n",
       "      <td>45.410389</td>\n",
       "    </tr>\n",
       "    <tr>\n",
       "      <th>4</th>\n",
       "      <td>2016-01-11 17:40:00</td>\n",
       "      <td>60</td>\n",
       "      <td>19.89</td>\n",
       "      <td>46.333333</td>\n",
       "      <td>19.2</td>\n",
       "      <td>44.530000</td>\n",
       "      <td>19.79</td>\n",
       "      <td>45.000000</td>\n",
       "      <td>18.890000</td>\n",
       "      <td>45.530000</td>\n",
       "      <td>...</td>\n",
       "      <td>17.000000</td>\n",
       "      <td>45.40</td>\n",
       "      <td>6.133333</td>\n",
       "      <td>733.9</td>\n",
       "      <td>92.0</td>\n",
       "      <td>5.666667</td>\n",
       "      <td>47.666667</td>\n",
       "      <td>4.9</td>\n",
       "      <td>10.084097</td>\n",
       "      <td>10.084097</td>\n",
       "    </tr>\n",
       "  </tbody>\n",
       "</table>\n",
       "<p>5 rows × 28 columns</p>\n",
       "</div>"
      ],
      "text/plain": [
       "                  date  Appliances_energy_use  Kitchen_temp  Kitchen_humidity  \\\n",
       "0  2016-01-11 17:00:00                     60         19.89         47.596667   \n",
       "1  2016-01-11 17:10:00                     60         19.89         46.693333   \n",
       "2  2016-01-11 17:20:00                     50         19.89         46.300000   \n",
       "3  2016-01-11 17:30:00                     50         19.89         46.066667   \n",
       "4  2016-01-11 17:40:00                     60         19.89         46.333333   \n",
       "\n",
       "   LivingRoom_temp  livingRoom_humidity  LaundryRoom_temp  \\\n",
       "0             19.2            44.790000             19.79   \n",
       "1             19.2            44.722500             19.79   \n",
       "2             19.2            44.626667             19.79   \n",
       "3             19.2            44.590000             19.79   \n",
       "4             19.2            44.530000             19.79   \n",
       "\n",
       "   LaundryRoom_humidity  OfficeRoom_temp  OfficeRoom_humidity    ...      \\\n",
       "0             44.730000        19.000000            45.566667    ...       \n",
       "1             44.790000        19.000000            45.992500    ...       \n",
       "2             44.933333        18.926667            45.890000    ...       \n",
       "3             45.000000        18.890000            45.723333    ...       \n",
       "4             45.000000        18.890000            45.530000    ...       \n",
       "\n",
       "   ParentsRoom_temp  ParentsRoom_humidity  Outside_temp  Outside_pressure  \\\n",
       "0         17.033333                 45.53      6.600000             733.5   \n",
       "1         17.066667                 45.56      6.483333             733.6   \n",
       "2         17.000000                 45.50      6.366667             733.7   \n",
       "3         17.000000                 45.40      6.250000             733.8   \n",
       "4         17.000000                 45.40      6.133333             733.9   \n",
       "\n",
       "   Outside_humidity  WindSpeed  Visibility  Dewpoint        rv1        rv2  \n",
       "0              92.0   7.000000   63.000000       5.3  13.275433  13.275433  \n",
       "1              92.0   6.666667   59.166667       5.2  18.606195  18.606195  \n",
       "2              92.0   6.333333   55.333333       5.1  28.642668  28.642668  \n",
       "3              92.0   6.000000   51.500000       5.0  45.410389  45.410389  \n",
       "4              92.0   5.666667   47.666667       4.9  10.084097  10.084097  \n",
       "\n",
       "[5 rows x 28 columns]"
      ]
     },
     "execution_count": 2,
     "metadata": {},
     "output_type": "execute_result"
    }
   ],
   "source": [
    "df = pd.read_csv('energydata_clean.csv')\n",
    "df.head()"
   ]
  },
  {
   "cell_type": "code",
   "execution_count": 3,
   "metadata": {},
   "outputs": [
    {
     "data": {
      "text/plain": [
       "((19219, 27), (19219,))"
      ]
     },
     "execution_count": 3,
     "metadata": {},
     "output_type": "execute_result"
    }
   ],
   "source": [
    "X = pd.DataFrame(df)\n",
    "y = df['Appliances_energy_use']\n",
    "X = X.drop('Appliances_energy_use', axis=1)\n",
    "X.shape , y.shape"
   ]
  },
  {
   "cell_type": "code",
   "execution_count": 4,
   "metadata": {},
   "outputs": [
    {
     "data": {
      "text/plain": [
       "(19219, 25)"
      ]
     },
     "execution_count": 4,
     "metadata": {},
     "output_type": "execute_result"
    }
   ],
   "source": [
    "X['date'] = pd.to_datetime(X['date'])\n",
    "X['date_ord']=X['date'].map(dt.datetime.toordinal)\n",
    "X = X.drop(['date','rv1','rv2'], axis=1)\n",
    "#df['date_ord'] = X['date'].to_datetime\n",
    "X.shape"
   ]
  },
  {
   "cell_type": "markdown",
   "metadata": {
    "collapsed": true
   },
   "source": [
    "\n",
    "As we saw during the EDA, there are many features which has multicollinear. These features can impact the regression model. My first approach to handle the multicollinearity will be **variance inflation factor**. Features **having VIF >5** can be considered as multicollinear.\n",
    "\n",
    "Let's now check the VIF for the features\n"
   ]
  },
  {
   "cell_type": "code",
   "execution_count": 5,
   "metadata": {},
   "outputs": [
    {
     "data": {
      "text/html": [
       "<div>\n",
       "<style>\n",
       "    .dataframe thead tr:only-child th {\n",
       "        text-align: right;\n",
       "    }\n",
       "\n",
       "    .dataframe thead th {\n",
       "        text-align: left;\n",
       "    }\n",
       "\n",
       "    .dataframe tbody tr th {\n",
       "        vertical-align: top;\n",
       "    }\n",
       "</style>\n",
       "<table border=\"1\" class=\"dataframe\">\n",
       "  <thead>\n",
       "    <tr style=\"text-align: right;\">\n",
       "      <th></th>\n",
       "      <th>VIF_Factor</th>\n",
       "      <th>features</th>\n",
       "    </tr>\n",
       "  </thead>\n",
       "  <tbody>\n",
       "    <tr>\n",
       "      <th>0</th>\n",
       "      <td>2070.2</td>\n",
       "      <td>Kitchen_temp</td>\n",
       "    </tr>\n",
       "    <tr>\n",
       "      <th>1</th>\n",
       "      <td>486.9</td>\n",
       "      <td>LivingRoom_temp</td>\n",
       "    </tr>\n",
       "    <tr>\n",
       "      <th>2</th>\n",
       "      <td>1081.5</td>\n",
       "      <td>LaundryRoom_temp</td>\n",
       "    </tr>\n",
       "    <tr>\n",
       "      <th>3</th>\n",
       "      <td>774.4</td>\n",
       "      <td>OfficeRoom_temp</td>\n",
       "    </tr>\n",
       "    <tr>\n",
       "      <th>4</th>\n",
       "      <td>943.5</td>\n",
       "      <td>Bathroom_temp</td>\n",
       "    </tr>\n",
       "    <tr>\n",
       "      <th>5</th>\n",
       "      <td>1091.3</td>\n",
       "      <td>IroningRoom_temp</td>\n",
       "    </tr>\n",
       "    <tr>\n",
       "      <th>6</th>\n",
       "      <td>806.0</td>\n",
       "      <td>TeenagerRoom_temp</td>\n",
       "    </tr>\n",
       "    <tr>\n",
       "      <th>7</th>\n",
       "      <td>1759.3</td>\n",
       "      <td>ParentsRoom_temp</td>\n",
       "    </tr>\n",
       "    <tr>\n",
       "      <th>8</th>\n",
       "      <td>6.6</td>\n",
       "      <td>Outside_temp</td>\n",
       "    </tr>\n",
       "  </tbody>\n",
       "</table>\n",
       "</div>"
      ],
      "text/plain": [
       "   VIF_Factor           features\n",
       "0      2070.2       Kitchen_temp\n",
       "1       486.9    LivingRoom_temp\n",
       "2      1081.5   LaundryRoom_temp\n",
       "3       774.4    OfficeRoom_temp\n",
       "4       943.5      Bathroom_temp\n",
       "5      1091.3   IroningRoom_temp\n",
       "6       806.0  TeenagerRoom_temp\n",
       "7      1759.3   ParentsRoom_temp\n",
       "8         6.6       Outside_temp"
      ]
     },
     "execution_count": 5,
     "metadata": {},
     "output_type": "execute_result"
    }
   ],
   "source": [
    "df_homeTemp= X[['Kitchen_temp','LivingRoom_temp','LaundryRoom_temp','OfficeRoom_temp','Bathroom_temp',\n",
    "                'IroningRoom_temp','TeenagerRoom_temp','ParentsRoom_temp','Outside_temp']]\n",
    "vifT = pd.DataFrame()\n",
    "vifT[\"VIF_Factor\"] = [variance_inflation_factor(df_homeTemp.values, i) for i in range(df_homeTemp.shape[1])]\n",
    "vifT[\"features\"] = df_homeTemp.columns\n",
    "vifT.round(1)"
   ]
  },
  {
   "cell_type": "code",
   "execution_count": null,
   "metadata": {},
   "outputs": [],
   "source": [
    "df_homehumid= df[['Kitchen_humidity','livingRoom_humidity','LaundryRoom_humidity','OfficeRoom_humidity',\n",
    "                   'Bathroom_humidity','OutsideNorth_humidity','IroningRoom_humidity','TeenagerRoom_humidity',\n",
    "                  'ParentsRoom_humidity','Outside_humidity']]\n",
    "vifh = pd.DataFrame()\n",
    "vifh[\"VIF_Factor\"] = [variance_inflation_factor(df_homehumid.values, i) for i in range(df_homehumid.shape[1])]\n",
    "vifh[\"features\"] = df_homehumid.columns\n",
    "vifh.round(1)"
   ]
  },
  {
   "cell_type": "markdown",
   "metadata": {},
   "source": [
    "Variance inflation factor is high for all the features. So, I cannot choose VIF for multicollinearity detection criteria. We will look for other approaches now. I will use ** L1 and L2 regularization using Lasso and Ridge.**"
   ]
  },
  {
   "cell_type": "code",
   "execution_count": 7,
   "metadata": {},
   "outputs": [
    {
     "data": {
      "text/plain": [
       "array([  1.00190897e+01,   7.08895240e+00,   1.90489942e+00,\n",
       "         1.03971687e+00,   9.89008001e-01,   9.32130437e-01,\n",
       "         5.97747367e-01,   5.43775232e-01,   4.15080043e-01,\n",
       "         2.75797888e-01,   1.96816549e-01,   1.57832308e-01,\n",
       "         1.44833050e-01,   1.24521624e-01,   1.20117805e-01,\n",
       "         9.81319885e-02,   3.58823031e-03,   1.43871501e-02,\n",
       "         2.19819675e-02,   2.90913683e-02,   4.35269088e-02,\n",
       "         4.53253910e-02,   4.99422217e-02,   7.58736242e-02,\n",
       "         6.78324115e-02])"
      ]
     },
     "execution_count": 7,
     "metadata": {},
     "output_type": "execute_result"
    }
   ],
   "source": [
    "#eigen values\n",
    "corr = X.corr()\n",
    "W,V=np.linalg.eig(corr)\n",
    "W"
   ]
  },
  {
   "cell_type": "code",
   "execution_count": 25,
   "metadata": {},
   "outputs": [
    {
     "data": {
      "text/html": [
       "<div>\n",
       "<style>\n",
       "    .dataframe thead tr:only-child th {\n",
       "        text-align: right;\n",
       "    }\n",
       "\n",
       "    .dataframe thead th {\n",
       "        text-align: left;\n",
       "    }\n",
       "\n",
       "    .dataframe tbody tr th {\n",
       "        vertical-align: top;\n",
       "    }\n",
       "</style>\n",
       "<table border=\"1\" class=\"dataframe\">\n",
       "  <thead>\n",
       "    <tr style=\"text-align: right;\">\n",
       "      <th></th>\n",
       "      <th>Columns</th>\n",
       "      <th>eigenVal</th>\n",
       "    </tr>\n",
       "  </thead>\n",
       "  <tbody>\n",
       "    <tr>\n",
       "      <th>0</th>\n",
       "      <td>Kitchen_temp</td>\n",
       "      <td>10.019090</td>\n",
       "    </tr>\n",
       "    <tr>\n",
       "      <th>1</th>\n",
       "      <td>Kitchen_humidity</td>\n",
       "      <td>7.088952</td>\n",
       "    </tr>\n",
       "    <tr>\n",
       "      <th>2</th>\n",
       "      <td>LivingRoom_temp</td>\n",
       "      <td>1.904899</td>\n",
       "    </tr>\n",
       "    <tr>\n",
       "      <th>3</th>\n",
       "      <td>livingRoom_humidity</td>\n",
       "      <td>1.039717</td>\n",
       "    </tr>\n",
       "    <tr>\n",
       "      <th>4</th>\n",
       "      <td>LaundryRoom_temp</td>\n",
       "      <td>0.989008</td>\n",
       "    </tr>\n",
       "    <tr>\n",
       "      <th>5</th>\n",
       "      <td>LaundryRoom_humidity</td>\n",
       "      <td>0.932130</td>\n",
       "    </tr>\n",
       "    <tr>\n",
       "      <th>6</th>\n",
       "      <td>OfficeRoom_temp</td>\n",
       "      <td>0.597747</td>\n",
       "    </tr>\n",
       "    <tr>\n",
       "      <th>7</th>\n",
       "      <td>OfficeRoom_humidity</td>\n",
       "      <td>0.543775</td>\n",
       "    </tr>\n",
       "    <tr>\n",
       "      <th>8</th>\n",
       "      <td>Bathroom_temp</td>\n",
       "      <td>0.415080</td>\n",
       "    </tr>\n",
       "    <tr>\n",
       "      <th>9</th>\n",
       "      <td>Bathroom_humidity</td>\n",
       "      <td>0.275798</td>\n",
       "    </tr>\n",
       "    <tr>\n",
       "      <th>10</th>\n",
       "      <td>OutsideNorth_temp</td>\n",
       "      <td>0.196817</td>\n",
       "    </tr>\n",
       "    <tr>\n",
       "      <th>11</th>\n",
       "      <td>OutsideNorth_humidity</td>\n",
       "      <td>0.157832</td>\n",
       "    </tr>\n",
       "    <tr>\n",
       "      <th>12</th>\n",
       "      <td>IroningRoom_temp</td>\n",
       "      <td>0.144833</td>\n",
       "    </tr>\n",
       "    <tr>\n",
       "      <th>13</th>\n",
       "      <td>IroningRoom_humidity</td>\n",
       "      <td>0.124522</td>\n",
       "    </tr>\n",
       "    <tr>\n",
       "      <th>14</th>\n",
       "      <td>TeenagerRoom_temp</td>\n",
       "      <td>0.120118</td>\n",
       "    </tr>\n",
       "    <tr>\n",
       "      <th>15</th>\n",
       "      <td>TeenagerRoom_humidity</td>\n",
       "      <td>0.098132</td>\n",
       "    </tr>\n",
       "    <tr>\n",
       "      <th>16</th>\n",
       "      <td>ParentsRoom_temp</td>\n",
       "      <td>0.003588</td>\n",
       "    </tr>\n",
       "    <tr>\n",
       "      <th>17</th>\n",
       "      <td>ParentsRoom_humidity</td>\n",
       "      <td>0.014387</td>\n",
       "    </tr>\n",
       "    <tr>\n",
       "      <th>18</th>\n",
       "      <td>Outside_temp</td>\n",
       "      <td>0.021982</td>\n",
       "    </tr>\n",
       "    <tr>\n",
       "      <th>19</th>\n",
       "      <td>Outside_pressure</td>\n",
       "      <td>0.029091</td>\n",
       "    </tr>\n",
       "    <tr>\n",
       "      <th>20</th>\n",
       "      <td>Outside_humidity</td>\n",
       "      <td>0.043527</td>\n",
       "    </tr>\n",
       "    <tr>\n",
       "      <th>21</th>\n",
       "      <td>WindSpeed</td>\n",
       "      <td>0.045325</td>\n",
       "    </tr>\n",
       "    <tr>\n",
       "      <th>22</th>\n",
       "      <td>Visibility</td>\n",
       "      <td>0.049942</td>\n",
       "    </tr>\n",
       "    <tr>\n",
       "      <th>23</th>\n",
       "      <td>Dewpoint</td>\n",
       "      <td>0.075874</td>\n",
       "    </tr>\n",
       "    <tr>\n",
       "      <th>24</th>\n",
       "      <td>date_ord</td>\n",
       "      <td>0.067832</td>\n",
       "    </tr>\n",
       "  </tbody>\n",
       "</table>\n",
       "</div>"
      ],
      "text/plain": [
       "                  Columns   eigenVal\n",
       "0            Kitchen_temp  10.019090\n",
       "1        Kitchen_humidity   7.088952\n",
       "2         LivingRoom_temp   1.904899\n",
       "3     livingRoom_humidity   1.039717\n",
       "4        LaundryRoom_temp   0.989008\n",
       "5    LaundryRoom_humidity   0.932130\n",
       "6         OfficeRoom_temp   0.597747\n",
       "7     OfficeRoom_humidity   0.543775\n",
       "8           Bathroom_temp   0.415080\n",
       "9       Bathroom_humidity   0.275798\n",
       "10      OutsideNorth_temp   0.196817\n",
       "11  OutsideNorth_humidity   0.157832\n",
       "12       IroningRoom_temp   0.144833\n",
       "13   IroningRoom_humidity   0.124522\n",
       "14      TeenagerRoom_temp   0.120118\n",
       "15  TeenagerRoom_humidity   0.098132\n",
       "16       ParentsRoom_temp   0.003588\n",
       "17   ParentsRoom_humidity   0.014387\n",
       "18           Outside_temp   0.021982\n",
       "19       Outside_pressure   0.029091\n",
       "20       Outside_humidity   0.043527\n",
       "21              WindSpeed   0.045325\n",
       "22             Visibility   0.049942\n",
       "23               Dewpoint   0.075874\n",
       "24               date_ord   0.067832"
      ]
     },
     "execution_count": 25,
     "metadata": {},
     "output_type": "execute_result"
    }
   ],
   "source": [
    "pd.DataFrame({'Columns': X.columns, 'eigenVal':W})"
   ]
  },
  {
   "cell_type": "markdown",
   "metadata": {},
   "source": [
    "Variance inflation factor is high for all the features. So, I cannot choose VIF for multicollinearity detection criteria. We will look for other approaches now. I will use ** L1 and L2 regularization using Lasso and Ridge.**"
   ]
  },
  {
   "cell_type": "code",
   "execution_count": 10,
   "metadata": {},
   "outputs": [
    {
     "data": {
      "text/plain": [
       "((13453, 25), (13453,), (5766, 25), (5766,))"
      ]
     },
     "execution_count": 10,
     "metadata": {},
     "output_type": "execute_result"
    }
   ],
   "source": [
    "X_train, X_test, y_train, y_test = train_test_split(X, y, test_size=.30, random_state=42) \n",
    "X_train.shape , y_train.shape,  X_test.shape, y_test.shape"
   ]
  },
  {
   "cell_type": "code",
   "execution_count": 11,
   "metadata": {},
   "outputs": [
    {
     "data": {
      "text/plain": [
       "((13453, 25), (13453,), (5766, 25), (5766,))"
      ]
     },
     "execution_count": 11,
     "metadata": {},
     "output_type": "execute_result"
    }
   ],
   "source": [
    "X_train, X_test, y_train, y_test = train_test_split(X, y, test_size=.30, random_state=42) \n",
    "X_train.shape , y_train.shape,  X_test.shape, y_test.shape"
   ]
  },
  {
   "cell_type": "code",
   "execution_count": 12,
   "metadata": {},
   "outputs": [
    {
     "name": "stdout",
     "output_type": "stream",
     "text": [
      "Lasso Mean Squared error: 9018.67574242\n",
      "Lasso R2 Score: 0.146715419079\n"
     ]
    }
   ],
   "source": [
    "# Instantiate a lasso regressor: lasso\n",
    "lasso = Lasso()\n",
    "# Fit the regressor to the data\n",
    "lasso.fit(X_train, y_train)\n",
    "predicted_lasso_y = lasso.predict(X_test)\n",
    "print(\"Lasso Mean Squared error:\",mean_squared_error(y_test, predicted_lasso_y))\n",
    "print(\"Lasso R2 Score:\",lasso.score(X_test, y_test))\n"
   ]
  },
  {
   "cell_type": "code",
   "execution_count": 13,
   "metadata": {},
   "outputs": [
    {
     "name": "stdout",
     "output_type": "stream",
     "text": [
      "Ridge Mean Squared error: 8979.98107934\n",
      "Ridge R2 Score: 0.150376439866\n"
     ]
    }
   ],
   "source": [
    "# Instantiate a Ridge regressor\n",
    "ridg = Ridge()\n",
    "# Fit the regressor to the data\n",
    "ridg.fit(X_train, y_train)\n",
    "predicted_ridg_y = ridg.predict(X_test)\n",
    "print(\"Ridge Mean Squared error:\",mean_squared_error(y_test, predicted_ridg_y))\n",
    "print(\"Ridge R2 Score:\",ridg.score(X_test, y_test))"
   ]
  },
  {
   "cell_type": "code",
   "execution_count": 14,
   "metadata": {},
   "outputs": [
    {
     "name": "stdout",
     "output_type": "stream",
     "text": [
      "ElasticNet Mean Squared error: 9241.42893847\n",
      "ElasticNet R2 Score: 0.125640055802\n"
     ]
    }
   ],
   "source": [
    "# Instantiate a ElasticNet: lasso\n",
    "elastic_net = ElasticNet()\n",
    "# Fit the regressor to the data\n",
    "elastic_net.fit(X_train, y_train)\n",
    "predicted_elastic_y = elastic_net.predict(X_test)\n",
    "print(\"ElasticNet Mean Squared error:\",mean_squared_error(y_test, predicted_elastic_y))\n",
    "print(\"ElasticNet R2 Score:\",elastic_net.score(X_test, y_test))"
   ]
  },
  {
   "cell_type": "code",
   "execution_count": 15,
   "metadata": {},
   "outputs": [
    {
     "data": {
      "text/html": [
       "<div>\n",
       "<style>\n",
       "    .dataframe thead tr:only-child th {\n",
       "        text-align: right;\n",
       "    }\n",
       "\n",
       "    .dataframe thead th {\n",
       "        text-align: left;\n",
       "    }\n",
       "\n",
       "    .dataframe tbody tr th {\n",
       "        vertical-align: top;\n",
       "    }\n",
       "</style>\n",
       "<table border=\"1\" class=\"dataframe\">\n",
       "  <thead>\n",
       "    <tr style=\"text-align: right;\">\n",
       "      <th></th>\n",
       "      <th>LasoCoefficients</th>\n",
       "      <th>RidgeCoefficients</th>\n",
       "      <th>elastic_net</th>\n",
       "      <th>features</th>\n",
       "    </tr>\n",
       "  </thead>\n",
       "  <tbody>\n",
       "    <tr>\n",
       "      <th>0</th>\n",
       "      <td>-0.000000</td>\n",
       "      <td>0.611995</td>\n",
       "      <td>-0.246477</td>\n",
       "      <td>Kitchen_temp</td>\n",
       "    </tr>\n",
       "    <tr>\n",
       "      <th>1</th>\n",
       "      <td>15.904263</td>\n",
       "      <td>17.637433</td>\n",
       "      <td>10.018977</td>\n",
       "      <td>Kitchen_humidity</td>\n",
       "    </tr>\n",
       "    <tr>\n",
       "      <th>2</th>\n",
       "      <td>-14.473487</td>\n",
       "      <td>-22.725380</td>\n",
       "      <td>-2.190338</td>\n",
       "      <td>LivingRoom_temp</td>\n",
       "    </tr>\n",
       "    <tr>\n",
       "      <th>3</th>\n",
       "      <td>-12.090914</td>\n",
       "      <td>-15.948060</td>\n",
       "      <td>-5.036530</td>\n",
       "      <td>livingRoom_humidity</td>\n",
       "    </tr>\n",
       "    <tr>\n",
       "      <th>4</th>\n",
       "      <td>22.792317</td>\n",
       "      <td>26.814391</td>\n",
       "      <td>10.298032</td>\n",
       "      <td>LaundryRoom_temp</td>\n",
       "    </tr>\n",
       "    <tr>\n",
       "      <th>5</th>\n",
       "      <td>3.011591</td>\n",
       "      <td>4.476824</td>\n",
       "      <td>3.046194</td>\n",
       "      <td>LaundryRoom_humidity</td>\n",
       "    </tr>\n",
       "    <tr>\n",
       "      <th>6</th>\n",
       "      <td>0.000000</td>\n",
       "      <td>3.754061</td>\n",
       "      <td>-0.000000</td>\n",
       "      <td>OfficeRoom_temp</td>\n",
       "    </tr>\n",
       "    <tr>\n",
       "      <th>7</th>\n",
       "      <td>0.000000</td>\n",
       "      <td>1.052221</td>\n",
       "      <td>-0.003631</td>\n",
       "      <td>OfficeRoom_humidity</td>\n",
       "    </tr>\n",
       "    <tr>\n",
       "      <th>8</th>\n",
       "      <td>-0.000000</td>\n",
       "      <td>-0.421293</td>\n",
       "      <td>-1.326001</td>\n",
       "      <td>Bathroom_temp</td>\n",
       "    </tr>\n",
       "    <tr>\n",
       "      <th>9</th>\n",
       "      <td>0.192868</td>\n",
       "      <td>0.218564</td>\n",
       "      <td>0.173005</td>\n",
       "      <td>Bathroom_humidity</td>\n",
       "    </tr>\n",
       "    <tr>\n",
       "      <th>10</th>\n",
       "      <td>4.083266</td>\n",
       "      <td>6.591633</td>\n",
       "      <td>2.786048</td>\n",
       "      <td>OutsideNorth_temp</td>\n",
       "    </tr>\n",
       "    <tr>\n",
       "      <th>11</th>\n",
       "      <td>-0.007561</td>\n",
       "      <td>0.104425</td>\n",
       "      <td>-0.090482</td>\n",
       "      <td>OutsideNorth_humidity</td>\n",
       "    </tr>\n",
       "    <tr>\n",
       "      <th>12</th>\n",
       "      <td>-0.000000</td>\n",
       "      <td>-0.433703</td>\n",
       "      <td>-0.713508</td>\n",
       "      <td>IroningRoom_temp</td>\n",
       "    </tr>\n",
       "    <tr>\n",
       "      <th>13</th>\n",
       "      <td>-1.789271</td>\n",
       "      <td>-1.561748</td>\n",
       "      <td>-2.550268</td>\n",
       "      <td>IroningRoom_humidity</td>\n",
       "    </tr>\n",
       "    <tr>\n",
       "      <th>14</th>\n",
       "      <td>5.538676</td>\n",
       "      <td>9.299688</td>\n",
       "      <td>2.576052</td>\n",
       "      <td>TeenagerRoom_temp</td>\n",
       "    </tr>\n",
       "    <tr>\n",
       "      <th>15</th>\n",
       "      <td>-5.095820</td>\n",
       "      <td>-5.676203</td>\n",
       "      <td>-4.273253</td>\n",
       "      <td>TeenagerRoom_humidity</td>\n",
       "    </tr>\n",
       "    <tr>\n",
       "      <th>16</th>\n",
       "      <td>-10.057832</td>\n",
       "      <td>-14.843779</td>\n",
       "      <td>-3.039802</td>\n",
       "      <td>ParentsRoom_temp</td>\n",
       "    </tr>\n",
       "    <tr>\n",
       "      <th>17</th>\n",
       "      <td>-2.290626</td>\n",
       "      <td>-2.246346</td>\n",
       "      <td>-2.187545</td>\n",
       "      <td>ParentsRoom_humidity</td>\n",
       "    </tr>\n",
       "    <tr>\n",
       "      <th>18</th>\n",
       "      <td>-1.553470</td>\n",
       "      <td>-7.669007</td>\n",
       "      <td>-1.118619</td>\n",
       "      <td>Outside_temp</td>\n",
       "    </tr>\n",
       "    <tr>\n",
       "      <th>19</th>\n",
       "      <td>0.209205</td>\n",
       "      <td>0.275871</td>\n",
       "      <td>0.031554</td>\n",
       "      <td>Outside_pressure</td>\n",
       "    </tr>\n",
       "    <tr>\n",
       "      <th>20</th>\n",
       "      <td>0.588615</td>\n",
       "      <td>-0.224099</td>\n",
       "      <td>0.333744</td>\n",
       "      <td>Outside_humidity</td>\n",
       "    </tr>\n",
       "    <tr>\n",
       "      <th>21</th>\n",
       "      <td>1.638857</td>\n",
       "      <td>1.873377</td>\n",
       "      <td>1.618021</td>\n",
       "      <td>WindSpeed</td>\n",
       "    </tr>\n",
       "    <tr>\n",
       "      <th>22</th>\n",
       "      <td>0.144531</td>\n",
       "      <td>0.171987</td>\n",
       "      <td>0.141414</td>\n",
       "      <td>Visibility</td>\n",
       "    </tr>\n",
       "    <tr>\n",
       "      <th>23</th>\n",
       "      <td>0.000000</td>\n",
       "      <td>4.239438</td>\n",
       "      <td>0.000000</td>\n",
       "      <td>Dewpoint</td>\n",
       "    </tr>\n",
       "    <tr>\n",
       "      <th>24</th>\n",
       "      <td>-0.585850</td>\n",
       "      <td>-0.511086</td>\n",
       "      <td>-0.526818</td>\n",
       "      <td>date_ord</td>\n",
       "    </tr>\n",
       "  </tbody>\n",
       "</table>\n",
       "</div>"
      ],
      "text/plain": [
       "    LasoCoefficients  RidgeCoefficients  elastic_net               features\n",
       "0          -0.000000           0.611995    -0.246477           Kitchen_temp\n",
       "1          15.904263          17.637433    10.018977       Kitchen_humidity\n",
       "2         -14.473487         -22.725380    -2.190338        LivingRoom_temp\n",
       "3         -12.090914         -15.948060    -5.036530    livingRoom_humidity\n",
       "4          22.792317          26.814391    10.298032       LaundryRoom_temp\n",
       "5           3.011591           4.476824     3.046194   LaundryRoom_humidity\n",
       "6           0.000000           3.754061    -0.000000        OfficeRoom_temp\n",
       "7           0.000000           1.052221    -0.003631    OfficeRoom_humidity\n",
       "8          -0.000000          -0.421293    -1.326001          Bathroom_temp\n",
       "9           0.192868           0.218564     0.173005      Bathroom_humidity\n",
       "10          4.083266           6.591633     2.786048      OutsideNorth_temp\n",
       "11         -0.007561           0.104425    -0.090482  OutsideNorth_humidity\n",
       "12         -0.000000          -0.433703    -0.713508       IroningRoom_temp\n",
       "13         -1.789271          -1.561748    -2.550268   IroningRoom_humidity\n",
       "14          5.538676           9.299688     2.576052      TeenagerRoom_temp\n",
       "15         -5.095820          -5.676203    -4.273253  TeenagerRoom_humidity\n",
       "16        -10.057832         -14.843779    -3.039802       ParentsRoom_temp\n",
       "17         -2.290626          -2.246346    -2.187545   ParentsRoom_humidity\n",
       "18         -1.553470          -7.669007    -1.118619           Outside_temp\n",
       "19          0.209205           0.275871     0.031554       Outside_pressure\n",
       "20          0.588615          -0.224099     0.333744       Outside_humidity\n",
       "21          1.638857           1.873377     1.618021              WindSpeed\n",
       "22          0.144531           0.171987     0.141414             Visibility\n",
       "23          0.000000           4.239438     0.000000               Dewpoint\n",
       "24         -0.585850          -0.511086    -0.526818               date_ord"
      ]
     },
     "execution_count": 15,
     "metadata": {},
     "output_type": "execute_result"
    }
   ],
   "source": [
    "# The coefficients\n",
    "pd.DataFrame({'features': X.columns, 'LasoCoefficients': lasso.coef_, 'RidgeCoefficients': ridg.coef_, 'elastic_net':elastic_net.coef_})"
   ]
  },
  {
   "cell_type": "code",
   "execution_count": 16,
   "metadata": {},
   "outputs": [
    {
     "data": {
      "text/plain": [
       "-1.9190335775132183e-05"
      ]
     },
     "execution_count": 16,
     "metadata": {},
     "output_type": "execute_result"
    }
   ],
   "source": [
    "#Normalize the training data\n",
    "scaler = Normalizer().fit(X_train)\n",
    "normalized_X = scaler.transform(X_train)\n",
    "#normalized_y = scaler.transform(y_train)\n",
    "lasso.fit(normalized_X,y_train)\n",
    "lasso.score(X_test, y_test)"
   ]
  },
  {
   "cell_type": "markdown",
   "metadata": {},
   "source": [
    "**R2 score** for the **Lasso, Ridge and ElasticNe**t models are **very low** and also, they have **very high mean squared error value. ** Since R2 is so low, that tuning cannot help much here. Another approach I took to **transform the features** before training the models. Still it didn't improvise the performance of the model. So, decided to go on RandomForestRegressor."
   ]
  },
  {
   "cell_type": "code",
   "execution_count": 17,
   "metadata": {},
   "outputs": [
    {
     "data": {
      "text/plain": [
       "0.48760276406620812"
      ]
     },
     "execution_count": 17,
     "metadata": {},
     "output_type": "execute_result"
    }
   ],
   "source": [
    "rfreg = RandomForestRegressor()\n",
    "rfreg.fit(X_train, y_train)\n",
    "rfreg.score(X_test, y_test)"
   ]
  },
  {
   "cell_type": "markdown",
   "metadata": {},
   "source": [
    "**RandomForestRegressor** score is way better now which is ** 48%.** So I decided to tune this further for better result."
   ]
  },
  {
   "cell_type": "code",
   "execution_count": 18,
   "metadata": {},
   "outputs": [
    {
     "name": "stdout",
     "output_type": "stream",
     "text": [
      "Tuned Decision Tree Parameters: {'random_state': 42, 'n_estimators': 50, 'min_samples_leaf': 5, 'max_leaf_nodes': None, 'max_features': 'sqrt', 'max_depth': 10, 'criterion': 'mae'}\n",
      "Best score is 0.16286092528724277\n"
     ]
    }
   ],
   "source": [
    "# Setup the parameters and distributions to sample from: param_dist\n",
    "param_dist2 = {\"n_estimators\": [20,50,100],\n",
    "              \"max_depth\": [1,5,10,25, None],\n",
    "              \"criterion\": [\"mse\", \"mae\"],\n",
    "              \"max_features\":['auto', \"sqrt\"],\n",
    "              \"max_leaf_nodes\":[2,5,10,None],\n",
    "              \"min_samples_leaf\":[1,5,10,25],\n",
    "              \"random_state\":[42]}\n",
    "\n",
    "# Instantiate a Decision Tree classifier: tree\n",
    "RDtree = RandomForestRegressor()\n",
    "\n",
    "# Instantiate the RandomizedSearchCV object: tree_cv\n",
    "RDtree_cv = RandomizedSearchCV (RDtree, param_dist2, cv=5)\n",
    "\n",
    "# Fit it to the data\n",
    "RDtree_cv.fit(X_train, y_train)\n",
    "\n",
    "# Print the tuned parameters and score\n",
    "print(\"Tuned Decision Tree Parameters: {}\".format(RDtree_cv.best_params_))\n",
    "print(\"Best score is {}\".format(RDtree_cv.best_score_))"
   ]
  },
  {
   "cell_type": "code",
   "execution_count": 19,
   "metadata": {},
   "outputs": [
    {
     "name": "stdout",
     "output_type": "stream",
     "text": [
      "RandomForestRegressor Mean Squared error: 4661.28711512\n",
      "RandomForestRegressor R2 Score: 0.558981325399\n"
     ]
    }
   ],
   "source": [
    "rfreg_tuned = RandomForestRegressor(max_features='sqrt', n_estimators=50, max_depth=25, random_state=42)\n",
    "rfreg_tuned.fit(X_train, y_train)\n",
    "pred_reg = rfreg_tuned.predict(X_test)\n",
    "print(\"RandomForestRegressor Mean Squared error:\",mean_squared_error(y_test, pred_reg))\n",
    "print(\"RandomForestRegressor R2 Score:\",rfreg_tuned.score(X_test, y_test))"
   ]
  },
  {
   "cell_type": "code",
   "execution_count": 20,
   "metadata": {},
   "outputs": [
    {
     "data": {
      "text/plain": [
       "array([ 0.03388855,  0.05472346,  0.04285769,  0.04645166,  0.04297717,\n",
       "        0.05240611,  0.03336913,  0.04193859,  0.0380885 ,  0.0480665 ,\n",
       "        0.03957816,  0.03889683,  0.03355829,  0.04073635,  0.03977629,\n",
       "        0.05286741,  0.03072646,  0.04279432,  0.03645634,  0.04869265,\n",
       "        0.04541724,  0.03083879,  0.02384274,  0.0369522 ,  0.02409859])"
      ]
     },
     "execution_count": 20,
     "metadata": {},
     "output_type": "execute_result"
    }
   ],
   "source": [
    "rfreg_tuned.feature_importances_"
   ]
  },
  {
   "cell_type": "code",
   "execution_count": 21,
   "metadata": {},
   "outputs": [
    {
     "data": {
      "text/plain": [
       "<matplotlib.text.Text at 0xc63eb38>"
      ]
     },
     "execution_count": 21,
     "metadata": {},
     "output_type": "execute_result"
    },
    {
     "data": {
      "image/png": "[encoded data removed]",
      "text/plain": [
       "<matplotlib.figure.Figure at 0x533c278>"
      ]
     },
     "metadata": {},
     "output_type": "display_data"
    }
   ],
   "source": [
    "resd = y_test-pred_reg\n",
    "sns.residplot(y_test, resd)\n",
    "\n",
    "plt.title(\"Residual Plot\")\n",
    "plt.xlabel('Fitted values')\n",
    "plt.ylabel('Residual')\n",
    "#X.plot(kind='scatter')"
   ]
  },
  {
   "cell_type": "code",
   "execution_count": 26,
   "metadata": {},
   "outputs": [
    {
     "data": {
      "text/plain": [
       "<matplotlib.text.Text at 0xd261e10>"
      ]
     },
     "execution_count": 26,
     "metadata": {},
     "output_type": "execute_result"
    },
    {
     "data": {
      "image/png": "[encoded data removed]",
      "text/plain": [
       "<matplotlib.figure.Figure at 0xd2857f0>"
      ]
     },
     "metadata": {},
     "output_type": "display_data"
    }
   ],
   "source": [
    "# Ditribution plot of the residuals\n",
    "sns.distplot(resd)\n",
    "plt.title(\"Residual Distribution\")\n",
    "plt.xlabel('Residual')\n",
    "\n",
    "#X.plot(kind='scatter')"
   ]
  },
  {
   "cell_type": "markdown",
   "metadata": {},
   "source": [
    "I would recommend **tuned RandomForestRegressor** for the prediction for the energy consumption prediction."
   ]
  }
 ],
 "metadata": {
  "kernelspec": {
   "display_name": "Python 3",
   "language": "python",
   "name": "python3"
  },
  "language_info": {
   "codemirror_mode": {
    "name": "ipython",
    "version": 3
   },
   "file_extension": ".py",
   "mimetype": "text/x-python",
   "name": "python",
   "nbconvert_exporter": "python",
   "pygments_lexer": "ipython3",
   "version": "3.6.1"
  }
 },
 "nbformat": 4,
 "nbformat_minor": 2
}
